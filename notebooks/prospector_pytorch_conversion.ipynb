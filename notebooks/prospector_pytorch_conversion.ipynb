{
 "cells": [
  {
   "cell_type": "code",
   "execution_count": null,
   "metadata": {},
   "outputs": [],
   "source": [
    "%load_ext autoreload\n",
    "%autoreload 2\n",
    "\n",
    "from lgsm.speculator import *\n",
    "import torch\n",
    "import matplotlib.pyplot as plt\n",
    "import pickle\n",
    "import numpy as np"
   ]
  },
  {
   "cell_type": "code",
   "execution_count": null,
   "metadata": {},
   "outputs": [],
   "source": [
    "config = speculator_uv_config\n",
    "path = \"models/uv_model_tf.pkl\"\n",
    "\n",
    "model = SpeculatorModule(config)\n",
    "\n",
    "with open(path, \"rb\") as file:\n",
    "    tf_params = pickle.load(file)\n",
    "\n",
    "model.latent_shift = nn.Parameter(torch.from_numpy(tf_params[\"parameters_shift\"]))\n",
    "model.latent_scale = nn.Parameter(torch.from_numpy(tf_params[\"parameters_scale\"]))\n",
    "for layer, W, b in zip(model.linear_layers[::2], tf_params[\"W\"], tf_params[\"b\"]):\n",
    "    layer.weight = nn.Parameter(torch.from_numpy(W.T))\n",
    "    layer.bias = nn.Parameter(torch.from_numpy(b))\n",
    "for layer, alpha, beta in zip(model.linear_layers[1::2], tf_params[\"alphas\"], tf_params[\"betas\"]):\n",
    "    layer.alpha = nn.Parameter(torch.from_numpy(alpha))\n",
    "    layer.beta = nn.Parameter(torch.from_numpy(beta))\n",
    "model.pca_shift = nn.Parameter(torch.from_numpy(tf_params[\"pca_shift\"]))\n",
    "model.pca_scale = nn.Parameter(torch.from_numpy(tf_params[\"pca_scale\"]))\n",
    "model.wavelengths = nn.Parameter(torch.from_numpy(tf_params[\"wavelengths\"]))\n",
    "model.pca_basis = nn.Parameter(torch.from_numpy(tf_params[\"pca_transform_matrix\"]))\n",
    "model.log_spectrum_shift = nn.Parameter(torch.from_numpy(tf_params[\"log_spectrum_shift\"]))\n",
    "model.log_spectrum_scale = nn.Parameter(torch.from_numpy(tf_params[\"log_spectrum_scale\"]))"
   ]
  },
  {
   "cell_type": "code",
   "execution_count": null,
   "metadata": {},
   "outputs": [],
   "source": [
    "torch.save(model.state_dict(), \"models/speculator_uv_model_.pt\")"
   ]
  },
  {
   "cell_type": "code",
   "execution_count": null,
   "metadata": {},
   "outputs": [],
   "source": [
    "rng = np.random.default_rng(123)\n",
    "theta = rng.normal(size=14) * 1e-9\n",
    "latents = torch.from_numpy(theta).float()\n",
    "\n",
    "plt.plot(model.wavelengths.detach(), model(latents).detach())"
   ]
  },
  {
   "cell_type": "code",
   "execution_count": null,
   "metadata": {},
   "outputs": [],
   "source": []
  }
 ],
 "metadata": {
  "kernelspec": {
   "display_name": "Python 3",
   "language": "python",
   "name": "python3"
  },
  "language_info": {
   "codemirror_mode": {
    "name": "ipython",
    "version": 3
   },
   "file_extension": ".py",
   "mimetype": "text/x-python",
   "name": "python",
   "nbconvert_exporter": "python",
   "pygments_lexer": "ipython3",
   "version": "3.11.9"
  }
 },
 "nbformat": 4,
 "nbformat_minor": 2
}
