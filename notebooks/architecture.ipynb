{
 "cells": [
  {
   "cell_type": "code",
   "execution_count": null,
   "id": "698ac7c8-8b60-452e-b665-6e863e64e8f4",
   "metadata": {},
   "outputs": [],
   "source": [
    "import matplotlib.pyplot as plt\n",
    "import numpy as np\n",
    "from lgsm.paths import paths"
   ]
  },
  {
   "cell_type": "code",
   "execution_count": null,
   "id": "af7cbc6e-68a4-4b07-8c46-ed47d36cdcaf",
   "metadata": {},
   "outputs": [],
   "source": [
    "# Set some dimensions\n",
    "ysize = 2.5\n",
    "xsize = 6.25\n",
    "\n",
    "ymin = -1\n",
    "ymax = 3.2\n",
    "xmin = -0.5\n",
    "xmax = (ymax - ymin) * xsize / ysize + xmin\n",
    "\n",
    "fig, ax = plt.subplots(figsize=(xsize, ysize), dpi=200, constrained_layout=True)\n",
    "ax.set(\n",
    "    aspect=\"equal\",\n",
    "    ylim=(ymin, ymax),\n",
    "    xlim=(xmin, xmax),\n",
    ")\n",
    "\n",
    "# The first latent variable\n",
    "x = np.linspace(0, 1, 100)\n",
    "y = np.exp(-(x-0.5)**2 / (2 * 0.13**2))\n",
    "y *= 0.85 / y.max()\n",
    "ax.plot(x, y, color=\"silver\")\n",
    "ax.plot([0, 1, 1, 0, 0], [0, 0, 1, 1, 0], c=\"#262626\", lw=0.5)\n",
    "ax.text(0.5, 1.17, \"$u_0$\", ha=\"center\", va=\"center\", color=\"gray\", size=8)\n",
    "\n",
    "# Redshift flow\n",
    "ax.text(1.9, 0.65, \"Redshift\\nflow\", color=\"tomato\", ha=\"center\", size=7)\n",
    "ax.arrow(1.2, 0.5, 1.4, 0, color=\"tomato\", head_width=0.1, length_includes_head=True)\n",
    "ax.plot([1.9, 1.9], [-0.25, 0.5], c=\"tomato\", ls=\"--\")\n",
    "ax.text(1.9, -0.5, \"$\\mathbf{p}$\", ha=\"center\", va=\"center\", size=8)\n",
    "ax.text(2.8, 0.5, \"$z$\", ha=\"center\", va=\"center\", size=8)\n",
    "\n",
    "# Other latent variables\n",
    "x = np.linspace(1.4, 2.4, 1000)\n",
    "y = np.linspace(1.5, 2.5, 1000)\n",
    "x, y = np.meshgrid(x, y)\n",
    "z = np.exp(-((x - 1.9)**2 + (y - 2)**2) / (2 * 0.23**2))\n",
    "z *= 0.8 / z.max()\n",
    "ax.contourf(x, y, z, levels=100, cmap=\"Grays\", vmin=0, vmax=1)\n",
    "ax.plot([1.4, 2.4, 2.4, 1.4, 1.4], [1.5, 1.5, 2.5, 2.5, 1.5], c=\"#262626\", lw=0.5)\n",
    "ax.text(1.9, 2.67, \"$u_{1\\!:\\!11}$\", ha=\"center\", va=\"center\", color=\"gray\", size=8)\n",
    "\n",
    "# Latent flow\n",
    "ax.text(3.3, 2.15, \"Latent\\nflow\", color=\"cornflowerblue\", ha=\"center\", size=7)\n",
    "ax.arrow(2.6, 2, 1.4, 0, color=\"cornflowerblue\", head_width=0.1, length_includes_head=True)\n",
    "ax.plot([3.3, 3.3], [1.25, 2], c=\"cornflowerblue\", ls=\"--\")\n",
    "ax.plot([2.8, 2.8, 3.8, 3.8, 2.15], [0.75, 1.25, 1.25, -0.5, -0.5], c=\"cornflowerblue\", ls=\"--\")\n",
    "ax.text(4.2, 2, \"$\\mathbf{\\\\theta}$\", ha=\"center\", va=\"center\", size=8)\n",
    "\n",
    "# SED emulator\n",
    "ax.text(5.2, 2.15, \"SED\\nemulator\", color=\"C2\", ha=\"center\", size=7)\n",
    "ax.arrow(4.45, 2, 1.5, 0, color=\"C2\", head_width=0.1, length_includes_head=True)\n",
    "ax.plot([6.1, 7.6, 7.6, 6.1, 6.1], [1.5, 1.5, 2.5, 2.5, 1.5], c=\"#262626\", lw=0.5)\n",
    "_, y = np.genfromtxt(\"data/Ell2_template_norm.sed.dat\", unpack=True)\n",
    "y = 0.85 * y / y.max() + 1.5\n",
    "x = np.linspace(6.1, 7.6, y.size)\n",
    "ax.plot(x, y, color=\"silver\", lw=0.5)\n",
    "ax.text(6.85, 2.67, \"Latent SED\", ha=\"center\", va=\"center\", color=\"gray\", size=7)\n",
    "\n",
    "# Physics layer\n",
    "ax.text(8.5, 2.15, \"Physics\\nlayer\", color=\"C4\", ha=\"center\", size=7)\n",
    "ax.arrow(7.8, 2, 1.4, 0, color=\"C4\", head_width=0.1, length_includes_head=True)\n",
    "ax.plot([3.05, 8.5, 8.5], [0.5, 0.5, 2], c=\"C4\", ls=\"--\")\n",
    "ax.text(9.4, 2, \"$\\hat{\\mathbf{p}}$\", ha=\"center\", va=\"center\", size=8)\n",
    "\n",
    "ax.set_axis_off()\n",
    "fig.savefig(paths.figures / \"architecture.pdf\")"
   ]
  },
  {
   "cell_type": "markdown",
   "id": "862c9c65-7451-4116-aa25-8b17bb2258d3",
   "metadata": {},
   "source": [
    "Explanation:\n",
    "\n",
    "1. The redshift flow predicts a redshift $z$ given the photometry $\\mathbf{p}$. Note this step is skipped by spectroscopic data.\n",
    "2. The latent flow predicts a set of latent galaxy SED parameters $\\mathbf{\\theta}$ given the photometry $\\mathbf{p}$ and the redshift $z$.\n",
    "3. The SED emulator predicts a rest-frame SED given the latent galaxy SED parameters $\\mathbf{\\theta}$.\n",
    "4. The Physics layer predicts galaxy photometry $\\mathbf{\\hat{p}}$ given the SED and the redshift $z$. The physics layer includes (i) redshifting the rest-frame SED, (ii) Lyman-transition IGM extinction, (iii) calculating synthetic photometry using the photometric bandpasses, and (iv) zeropoint offsets for each photometric band.\n",
    "\n",
    "You can then compare the input photometry $\\mathbf{p}$ with the autoencoded photometry $\\mathbf{\\hat{p}}$.\n",
    "\n",
    "Once everything is trained:\n",
    "- The Redshift flow is a photo-z predictor that has been trained to be consistent with a latent SED model\n",
    "- The Redshift flow + Latent flow + SED emulator is a probabilistic SED predictor"
   ]
  },
  {
   "cell_type": "code",
   "execution_count": null,
   "id": "790fe058",
   "metadata": {},
   "outputs": [],
   "source": []
  }
 ],
 "metadata": {
  "kernelspec": {
   "display_name": "Python 3 (ipykernel)",
   "language": "python",
   "name": "python3"
  },
  "language_info": {
   "codemirror_mode": {
    "name": "ipython",
    "version": 3
   },
   "file_extension": ".py",
   "mimetype": "text/x-python",
   "name": "python",
   "nbconvert_exporter": "python",
   "pygments_lexer": "ipython3",
   "version": "3.11.9"
  }
 },
 "nbformat": 4,
 "nbformat_minor": 5
}
